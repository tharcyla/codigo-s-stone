{
 "cells": [
  {
   "cell_type": "markdown",
   "metadata": {},
   "source": [
    "### Funções"
   ]
  },
  {
   "cell_type": "code",
   "execution_count": 39,
   "metadata": {},
   "outputs": [
    {
     "name": "stdout",
     "output_type": "stream",
     "text": [
      "A média do aluno t foi 9.0!\n",
      "A média do aluno f foi 4.0!\n"
     ]
    }
   ],
   "source": [
    "def calcula_media(lst: list) -> float: # Tipando o argumento da função para lista\n",
    "    # a setinha -> assegura que nossa função vai retornar um float\n",
    "    # nossa função calcula_media vai receber uma lista (lst) e devolver um float \n",
    "    \"\"\"Calcula a média aritmética\"\"\"\n",
    "    return sum(lst) / len(lst)\n",
    "\n",
    "def calcula_media_ponderada(valores: list, pesos: tuple or None = None) -> float:\n",
    "    \"\"\"Calcula a média ponderada\"\"\"\n",
    "\n",
    "    if not pesos:\n",
    "        pesos = (1,) * len(valores)\n",
    "    \n",
    "    # Inicia uma soma acumulativa com zero \n",
    "    numerador = 0\n",
    "\n",
    "    # Soma dos pesos\n",
    "    denominador = sum(pesos)\n",
    "    \n",
    "    # Iterando por cada par de valor, peso\n",
    "    for valor, peso in zip(valores, pesos):\n",
    "        numerador = numerador + valor * peso\n",
    "    return numerador / denominador \n",
    "\n",
    "fechamento = dict()\n",
    "\n",
    "numero_alunos = int(input(\"Querido usuário, quantos alunos serão? \"))\n",
    "numero_notas = 3\n",
    "\n",
    "for _ in range(numero_alunos):\n",
    "    nome = input(\"Digite o nome do aluno: \")\n",
    "    fechamento[nome] = []\n",
    "\n",
    "    for _ in range(numero_notas):\n",
    "        nota = int(input(f\"Digite a nota do {nome}: \"))\n",
    "        fechamento[nome].append(nota)\n",
    "    \n",
    "    media = sum(fechamento[nome]) / len(fechamento[nome])\n",
    "\n",
    "for aluno, notas in fechamento.items():\n",
    "    media = calcula_media_ponderada(notas, [1, 3, 1])\n",
    "    print(f\"A média do aluno {aluno} foi {media}!\")"
   ]
  },
  {
   "cell_type": "code",
   "execution_count": 3,
   "metadata": {},
   "outputs": [
    {
     "name": "stdout",
     "output_type": "stream",
     "text": [
      "(1, 'sugar')\n",
      "(2, 'spice')\n",
      "(3, 'everything nice')\n"
     ]
    }
   ],
   "source": [
    "# Using zip\n",
    "for item in zip([1, 2, 3], ['sugar', 'spice', 'everything nice']):\n",
    "    print(item)"
   ]
  },
  {
   "cell_type": "code",
   "execution_count": 12,
   "metadata": {},
   "outputs": [
    {
     "name": "stdout",
     "output_type": "stream",
     "text": [
      "7\n"
     ]
    }
   ],
   "source": [
    "# Exemplo mais simples\n",
    "def soma(num1: int, num2: int) -> int:\n",
    "    return num1 + num2\n",
    "\n",
    "resultado = soma(5, 2)\n",
    "print(resultado)"
   ]
  },
  {
   "cell_type": "code",
   "execution_count": 16,
   "metadata": {},
   "outputs": [
    {
     "name": "stdout",
     "output_type": "stream",
     "text": [
      "6\n"
     ]
    }
   ],
   "source": [
    "def soma(a: int, b: int) -> int: \n",
    "    return a + b\n",
    "\n",
    "resultado = soma(1, 5)\n",
    "print(resultado)"
   ]
  },
  {
   "cell_type": "code",
   "execution_count": 18,
   "metadata": {},
   "outputs": [
    {
     "data": {
      "text/plain": [
       "11"
      ]
     },
     "execution_count": 18,
     "metadata": {},
     "output_type": "execute_result"
    }
   ],
   "source": [
    "def soma(a: int, b: int = 10) -> int: # aqui, b é um argument opcional\n",
    "    return a + b\n",
    "\n",
    "resultado = soma(1)\n",
    "resultado"
   ]
  },
  {
   "cell_type": "code",
   "execution_count": 15,
   "metadata": {},
   "outputs": [
    {
     "name": "stdout",
     "output_type": "stream",
     "text": [
      "6\n"
     ]
    }
   ],
   "source": [
    "def soma(a: int, b: int = 10) -> int: # aqui, b é um argument opcional\n",
    "    return a + b\n",
    "\n",
    "resultado = soma(1, 5) # vamos sobrescrever o b\n",
    "print(resultado)"
   ]
  },
  {
   "cell_type": "code",
   "execution_count": 21,
   "metadata": {},
   "outputs": [
    {
     "data": {
      "text/plain": [
       "10"
      ]
     },
     "execution_count": 21,
     "metadata": {},
     "output_type": "execute_result"
    }
   ],
   "source": [
    "def soma (a: int, b: int, c: int = 10) -> int:\n",
    "    return a + b + c \n",
    "\n",
    "resultado = soma(c = 1, a = 4, b = 5)\n",
    "resultado"
   ]
  },
  {
   "cell_type": "code",
   "execution_count": 22,
   "metadata": {},
   "outputs": [
    {
     "data": {
      "text/plain": [
       "12"
      ]
     },
     "execution_count": 22,
     "metadata": {},
     "output_type": "execute_result"
    }
   ],
   "source": [
    "def soma (a: int, b: int, c: int = 10) -> int:\n",
    "    return a + b + c \n",
    "\n",
    "resultado = soma(1, 1)\n",
    "resultado"
   ]
  },
  {
   "cell_type": "code",
   "execution_count": 25,
   "metadata": {},
   "outputs": [
    {
     "name": "stdout",
     "output_type": "stream",
     "text": [
      "19\n",
      "None\n"
     ]
    }
   ],
   "source": [
    "def soma(a: int, b: int, c: int = 10) -> int:\n",
    "    print(a + b + c)\n",
    "\n",
    "resultado = soma(a = 4, b = 5)\n",
    "print(resultado) # como a função não está retornando nada, esse print vai dar \"none\""
   ]
  },
  {
   "cell_type": "code",
   "execution_count": 26,
   "metadata": {},
   "outputs": [
    {
     "name": "stdout",
     "output_type": "stream",
     "text": [
      "19\n"
     ]
    }
   ],
   "source": [
    "def soma(a: int, b: int, c: int = 10) -> int:\n",
    "    return a + b + c\n",
    "\n",
    "resultado = soma(a = 4, b = 5)\n",
    "print(resultado) # como a função não está retornando nada, esse print vai dar \"none\""
   ]
  },
  {
   "cell_type": "code",
   "execution_count": 37,
   "metadata": {},
   "outputs": [
    {
     "name": "stdout",
     "output_type": "stream",
     "text": [
      "[6, 5, 10]\n"
     ]
    }
   ],
   "source": [
    "lista = [10, 5, 6]\n",
    "lista.reverse() # reverse faz a reversão in-place\n",
    "\n",
    "print(lista)"
   ]
  },
  {
   "cell_type": "code",
   "execution_count": 33,
   "metadata": {},
   "outputs": [
    {
     "name": "stdout",
     "output_type": "stream",
     "text": [
      "Henrique Branco\n"
     ]
    }
   ],
   "source": [
    "nome_facilitador = \"Henrique Branco\"\n",
    "\n",
    "nome_facilitador.upper() # upper coloca em letra maiúscula out of place\n",
    "\n",
    "print(nome_facilitador)"
   ]
  },
  {
   "cell_type": "code",
   "execution_count": 34,
   "metadata": {},
   "outputs": [
    {
     "name": "stdout",
     "output_type": "stream",
     "text": [
      "3\n"
     ]
    }
   ],
   "source": [
    "lista = [10, 5, 6, 10, 10]\n",
    "\n",
    "n_vezes_10 = lista.count(10)\n",
    "\n",
    "print(n_vezes_10)"
   ]
  }
 ],
 "metadata": {
  "interpreter": {
   "hash": "ba5d83a24314f874713dbd21a8c2b742625751d404308deb09f845d2c2b21efb"
  },
  "kernelspec": {
   "display_name": "Python 3.9.7 ('nvenv')",
   "language": "python",
   "name": "python3"
  },
  "language_info": {
   "codemirror_mode": {
    "name": "ipython",
    "version": 3
   },
   "file_extension": ".py",
   "mimetype": "text/x-python",
   "name": "python",
   "nbconvert_exporter": "python",
   "pygments_lexer": "ipython3",
   "version": "3.8.12"
  },
  "orig_nbformat": 4
 },
 "nbformat": 4,
 "nbformat_minor": 2
}
