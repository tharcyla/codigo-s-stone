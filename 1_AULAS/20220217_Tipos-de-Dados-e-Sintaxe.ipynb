{
 "cells": [
  {
   "cell_type": "code",
   "execution_count": 6,
   "metadata": {},
   "outputs": [
    {
     "name": "stdout",
     "output_type": "stream",
     "text": [
      "<class 'float'>\n",
      "9.0\n"
     ]
    }
   ],
   "source": [
    "nota1 = 8\n",
    "nota2= 10\n",
    "media = (nota1 + nota2)/2\n",
    "print(type(media))\n",
    "print(media)"
   ]
  },
  {
   "cell_type": "code",
   "execution_count": 8,
   "metadata": {},
   "outputs": [
    {
     "name": "stdout",
     "output_type": "stream",
     "text": [
      "7.5\n"
     ]
    }
   ],
   "source": [
    "nota1 = float(input(\"Digite a primeira nota: \"))\n",
    "nota2 = float(input(\"Digite a segunda nota: \"))\n",
    "\n",
    "# calcula a média\n",
    "media = (nota1 + nota2)/2\n",
    "print(media)"
   ]
  },
  {
   "cell_type": "code",
   "execution_count": 4,
   "metadata": {},
   "outputs": [
    {
     "name": "stdout",
     "output_type": "stream",
     "text": [
      "-9\n",
      "\n",
      " 9 \n",
      "\n"
     ]
    }
   ],
   "source": [
    "numero = -3 ** 2 # primeiro ele vai elevar ao quadrado, depois negativar (diferente da matemática que tornaria +9!)\n",
    "print(numero, '\\n') # >>> 9\n",
    "\n",
    "numero2 = (-3)**2\n",
    "print(numero2, '\\n') # >>> -9"
   ]
  },
  {
   "cell_type": "code",
   "execution_count": 11,
   "metadata": {},
   "outputs": [
    {
     "name": "stdout",
     "output_type": "stream",
     "text": [
      "\n",
      "T ficou com a média 5.67.\n"
     ]
    }
   ],
   "source": [
    "aluno = input(\"Digite seu nome: \")\n",
    "nota1 = float(input(\"Digite a primeira nota: \"))\n",
    "nota2 = float(input(\"Digite a segunda nota: \"))\n",
    "nota3 = float(input(\"Digite a terceira nota: \"))\n",
    "\n",
    "# calcula a média\n",
    "media = (nota1 + nota2 + nota3) / 3\n",
    "print(f\"\\n{aluno} ficou com a média {media:.2f}.\") # :.2f formata a média para que fique com duas casas decimais "
   ]
  },
  {
   "cell_type": "code",
   "execution_count": 18,
   "metadata": {},
   "outputs": [
    {
     "name": "stdout",
     "output_type": "stream",
     "text": [
      "Thárcyla ficou com 5.67 de média.\n",
      "\n",
      "A média float é 5.666666666666667.\n",
      "A média arredondada é 5.67.\n",
      "A média truncada é 5.\n"
     ]
    }
   ],
   "source": [
    "aluno = input(\"Digite seu nome: \")\n",
    "nota1 = float(input(\"Digite a primeira nota: \"))\n",
    "nota2 = float(input(\"Digite a segunda nota: \"))\n",
    "nota3 = float(input(\"Digite a terceira nota: \"))\n",
    "\n",
    "# calcula a média\n",
    "media_float = (nota1 + nota2 + nota3) / 3\n",
    "media_int = int(media_float) # descarta tudo que vem depois da vírgula\n",
    "media_round = round(media_float) # a built-in function round(number, [ndigits]) recebe um segundo argumento com a quantidade de dígitos para arredondar\n",
    "# media_round = round(media_float, 2)\n",
    "\n",
    "print(f\"{aluno} ficou com {media_round} de média.\\n\") # :.2f formata a média para que fique com duas casas decimais \n",
    "print(f\"A média float é {media_float}.\")\n",
    "print(f\"A média arredondada é {media_round}.\")\n",
    "print(f\"A média truncada é {media_int}.\")"
   ]
  },
  {
   "cell_type": "code",
   "execution_count": null,
   "metadata": {},
   "outputs": [],
   "source": [
    "aluno = \"Thárcyla Mourão\"\n",
    "nota1 = float(input(\"Digite a primeira nota: \"))\n",
    "nota2 = float(input(\"Digite a segunda nota: \"))\n",
    "nota3 = float(input(\"Digite a terceira nota: \"))\n",
    "\n",
    "# calcula a média\n",
    "media_float = (nota1 + nota2 + nota3) / 3\n",
    "media_int = int(media_float) # descarta tudo que vem depois da vírgula\n",
    "media_round = round(media_float) # a built-in function round(number, [ndigits]) recebe um segundo argumento com a quantidade de dígitos para arredondar\n",
    "# media_round = round(media_float, 2)\n",
    "\n",
    "print(f\"{aluno} ficou com {media_round} de média.\\n\") # :.2f formata a média para que fique com duas casas decimais \n",
    "print(f\"A média float é {media_float}.\")\n",
    "print(f\"A média arredondada é {media_round}.\")\n",
    "print(f\"A média truncada é {media_int}.\")"
   ]
  },
  {
   "cell_type": "code",
   "execution_count": null,
   "metadata": {},
   "outputs": [],
   "source": [
    "frase = \"Henrique's car\"\n",
    "frase = 'Henrique\\s car' # pra usar aspas simples com string, precisa usar \\ antes do apóstrofo, caso haja \n",
    "frase = 'Ele disse \"oi\"' # se o texto contém aspas duplas, usa simples"
   ]
  },
  {
   "cell_type": "code",
   "execution_count": 27,
   "metadata": {},
   "outputs": [
    {
     "name": "stdout",
     "output_type": "stream",
     "text": [
      "Meu nome é Mourão.\n"
     ]
    }
   ],
   "source": [
    "nome = \"Thárcyla/Mourão\"\n",
    "\n",
    "print(f\"Meu nome é {nome.split('/')[1]}.\")\n"
   ]
  },
  {
   "cell_type": "code",
   "execution_count": 32,
   "metadata": {},
   "outputs": [
    {
     "name": "stdout",
     "output_type": "stream",
     "text": [
      "No meu nome existe 1 letra a.\n"
     ]
    }
   ],
   "source": [
    "nome = \"Thárcyla Mourão\"\n",
    "\n",
    "letra = \"a\"\n",
    "\n",
    "print(f\"No meu nome existe {nome.count(letra)} letra {letra}.\")"
   ]
  },
  {
   "cell_type": "code",
   "execution_count": 34,
   "metadata": {},
   "outputs": [
    {
     "name": "stdout",
     "output_type": "stream",
     "text": [
      "No meu nome existem 15 caracteres.\n"
     ]
    }
   ],
   "source": [
    "nome = \"Thárcyla Mourão\"\n",
    "\n",
    "len_nome = len(nome)\n",
    "\n",
    "print(f\"No meu nome existem {len_nome} caracteres.\")"
   ]
  },
  {
   "cell_type": "code",
   "execution_count": 36,
   "metadata": {},
   "outputs": [
    {
     "name": "stdout",
     "output_type": "stream",
     "text": [
      "Thárcyla Mourão\n",
      "Thárcyla Mourão\n"
     ]
    }
   ],
   "source": [
    "nome = \"Thárcyla\"\n",
    "sobrenome = \"Mourão\"\n",
    "\n",
    "print(nome + \" \" + sobrenome)\n",
    "\n",
    "print(f\"{nome} {sobrenome}\")"
   ]
  }
 ],
 "metadata": {
  "interpreter": {
   "hash": "ba5d83a24314f874713dbd21a8c2b742625751d404308deb09f845d2c2b21efb"
  },
  "kernelspec": {
   "display_name": "Python 3.9.7 ('nvenv')",
   "language": "python",
   "name": "python3"
  },
  "language_info": {
   "codemirror_mode": {
    "name": "ipython",
    "version": 3
   },
   "file_extension": ".py",
   "mimetype": "text/x-python",
   "name": "python",
   "nbconvert_exporter": "python",
   "pygments_lexer": "ipython3",
   "version": "3.9.7"
  },
  "orig_nbformat": 4
 },
 "nbformat": 4,
 "nbformat_minor": 2
}
