{
 "cells": [
  {
   "cell_type": "markdown",
   "metadata": {},
   "source": [
    "### Notas da Aula 1"
   ]
  },
  {
   "cell_type": "code",
   "execution_count": 2,
   "metadata": {},
   "outputs": [
    {
     "name": "stdout",
     "output_type": "stream",
     "text": [
      "Hello World!\n"
     ]
    }
   ],
   "source": [
    "print(\"Hello World!\")"
   ]
  },
  {
   "cell_type": "markdown",
   "metadata": {},
   "source": [
    "### Desafio 01: o que esse pequeno trecho de código faz?"
   ]
  },
  {
   "cell_type": "code",
   "execution_count": 4,
   "metadata": {},
   "outputs": [
    {
     "name": "stdout",
     "output_type": "stream",
     "text": [
      "\n",
      "O tempo estimado é de 5.03 horas\n",
      "\n"
     ]
    }
   ],
   "source": [
    "distancia = float(input(\"Digite a distância em km: \"))\n",
    "\n",
    "velocidade_media = float(input(\"Digite a velocidade média em km/h: \"))\n",
    "\n",
    "tempo_total_horas = distancia / velocidade_media\n",
    "\n",
    "# f-string is a newer, cleaner way to reference variables inside a print\n",
    "# you can simply use \"f\" before a string to use it\n",
    "# using f-string, you can reference the variable INSIDE the curly brackets\n",
    "print(f\"\\nO tempo estimado é de {tempo_total_horas:.2f} horas\\n\")\n",
    "# note that :.2f we are telling python to format the float result with 2 decimal places, \n",
    "# don't confuse it with the f-string "
   ]
  },
  {
   "cell_type": "markdown",
   "metadata": {},
   "source": [
    "### Desafio 02: O que esse pequeno trecho de código faz?"
   ]
  },
  {
   "cell_type": "code",
   "execution_count": 2,
   "metadata": {},
   "outputs": [
    {
     "name": "stdout",
     "output_type": "stream",
     "text": [
      "Total a pagar: R$  187.50\n"
     ]
    }
   ],
   "source": [
    "\"\"\"\n",
    "How Bootcamps - Stone - /código[s]\n",
    "Data: 15/02/2022\n",
    "Autor: Henrique Junqueira Branco\n",
    "Enunciado: \n",
    "O programa lê do usuário duas quantidades, dias e quilômetros. \n",
    "Considera-se que o preço por dia seja R$60 e que o preço por quilômetro rodado seja R$0.65.\n",
    "Calcula-se o preço total do aluguel de um veículo e imprime-o na tela, formatando a saída com 7 dígitos e 2 casas decimais.\n",
    "\"\"\"\n",
    "\n",
    "# Desafio 02: o que esse pequeno trecho de código faz?\n",
    "\n",
    "qtd_km = int(input(\"Digite a quantidade de quilometros percorridos: \"))\n",
    "\n",
    "qtd_dias = int(input(\"Digite quantos dias você ficou com o carro:\"))\n",
    "\n",
    "preco_por_dia = 60\n",
    "preco_por_km = 0.15\n",
    "\n",
    "preco_total_km = qtd_km * preco_por_km\n",
    "preco_total_dia = qtd_dias * preco_por_dia\n",
    "\n",
    "preco_a_pagar = preco_total_km + preco_total_dia\n",
    "\n",
    "print(f\"Total a pagar: R$ {preco_a_pagar:7.2f}\")\n"
   ]
  }
 ],
 "metadata": {
  "interpreter": {
   "hash": "ba5d83a24314f874713dbd21a8c2b742625751d404308deb09f845d2c2b21efb"
  },
  "kernelspec": {
   "display_name": "Python 3.9.7 64-bit ('nvenv': conda)",
   "language": "python",
   "name": "python3"
  },
  "language_info": {
   "codemirror_mode": {
    "name": "ipython",
    "version": 3
   },
   "file_extension": ".py",
   "mimetype": "text/x-python",
   "name": "python",
   "nbconvert_exporter": "python",
   "pygments_lexer": "ipython3",
   "version": "3.9.7"
  },
  "orig_nbformat": 4
 },
 "nbformat": 4,
 "nbformat_minor": 2
}
