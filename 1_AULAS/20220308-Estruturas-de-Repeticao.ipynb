{
 "cells": [
  {
   "cell_type": "markdown",
   "metadata": {},
   "source": [
    "### Estrutura de Repetição: for e while"
   ]
  },
  {
   "cell_type": "code",
   "execution_count": null,
   "metadata": {},
   "outputs": [],
   "source": [
    "aluno = \"Thárcyla Mourão\"\n",
    "\n",
    "# Criando uma lista vazia \n",
    "notas = []\n",
    "\n",
    "# Adicionando a primeira nota (input do usuário) à lista\n",
    "notas.append(float(input(\"Digite a primeira nota: \")))\n",
    "\n",
    "# Adicionando a segunda nota (input do usuário) à lista\n",
    "notas.append(float(input(\"Digite a segunda nota: \")))\n",
    "\n",
    "# Adicionando a terceira nota (input do usuário) à lista\n",
    "notas.append(float(input(\"Digite a terceira nota: \")))\n",
    "\n",
    "# Adicionando a quarta nota (input do usuário) à lista\n",
    "notas.append(float(input(\"Digite a quarta nota: \")))\n",
    "\n",
    "# Adicionando a quinta nota (input do usuário) à lista\n",
    "notas.append(float(input(\"Digite a quinta nota: \")))"
   ]
  },
  {
   "cell_type": "code",
   "execution_count": null,
   "metadata": {},
   "outputs": [],
   "source": [
    "# Criando uma lista vazia \n",
    "notas = []\n",
    "numero_notas = int(input(\"Querido usuário, quantas notas você deseja digitar? \"))\n",
    "\n",
    "for x in range(numero_notas):\n",
    "    # Adicionando a primeira nota (input do usuário) à lista\n",
    "    notas.append(float(input(\"Digite uma nota: \")))\n",
    "\n",
    "# Calculando a média das notas \n",
    "nota_media = sum(notas) / len(notas)\n",
    "\n",
    "# Definindo padrões de aprovação\n",
    "nota_minima_aprovacao = 7\n",
    "nota_minima_rec = 6\n",
    "\n",
    "# Verificação da aprovação do aluno "
   ]
  },
  {
   "cell_type": "code",
   "execution_count": 21,
   "metadata": {},
   "outputs": [
    {
     "name": "stdout",
     "output_type": "stream",
     "text": [
      "{'Henrique': [], 'João': [], 'Rafael': []}\n"
     ]
    }
   ],
   "source": [
    "# Criando uma lista vazia\n",
    "fechamento = dict()\n",
    "\n",
    "numero_alunos = int(input(\"Querido usuário, quantos alunos serão? \"))\n",
    "numero_notas = int(input(\"Quantas notas por aluno? \"))\n",
    "\n",
    "for x in range(numero_alunos):\n",
    "    nome = input(\"Digite o nome do aluno: \")\n",
    "    fechamento[nome] = []\n",
    "\n",
    "    for y in range(numero_notas):\n",
    "        nota = int(input(f\"Digite a nota do aluno {nome}: \"))\n",
    "        fechamento[nome].append(nota)\n",
    "    \n",
    "    media = sum(fechamento[nome]) / len(fechamento[nome])\n",
    "\n",
    "    print(f\"A média do aluno {nome} foi {media}!\")"
   ]
  },
  {
   "cell_type": "code",
   "execution_count": 1,
   "metadata": {},
   "outputs": [
    {
     "name": "stdout",
     "output_type": "stream",
     "text": [
      "10\n"
     ]
    }
   ],
   "source": [
    "notas = [10, 8, 7]\n",
    "print(notas[0])"
   ]
  },
  {
   "cell_type": "code",
   "execution_count": 2,
   "metadata": {},
   "outputs": [
    {
     "name": "stdout",
     "output_type": "stream",
     "text": [
      "10\n",
      "8\n",
      "7\n"
     ]
    }
   ],
   "source": [
    "for nota in notas:\n",
    "    print(nota)"
   ]
  },
  {
   "cell_type": "code",
   "execution_count": 3,
   "metadata": {},
   "outputs": [
    {
     "name": "stdout",
     "output_type": "stream",
     "text": [
      "10\n",
      "8\n",
      "7\n"
     ]
    }
   ],
   "source": [
    "for indice in range(len(notas)):\n",
    "    print(notas[indice])"
   ]
  },
  {
   "cell_type": "code",
   "execution_count": 4,
   "metadata": {},
   "outputs": [
    {
     "data": {
      "text/plain": [
       "3"
      ]
     },
     "execution_count": 4,
     "metadata": {},
     "output_type": "execute_result"
    }
   ],
   "source": [
    "len(notas)"
   ]
  },
  {
   "cell_type": "code",
   "execution_count": 6,
   "metadata": {},
   "outputs": [
    {
     "name": "stdout",
     "output_type": "stream",
     "text": [
      "range(0, 5)\n"
     ]
    },
    {
     "data": {
      "text/plain": [
       "[0, 1, 2, 3, 4]"
      ]
     },
     "execution_count": 6,
     "metadata": {},
     "output_type": "execute_result"
    }
   ],
   "source": [
    "print(range(5))\n",
    "list(range(5))"
   ]
  },
  {
   "cell_type": "code",
   "execution_count": 10,
   "metadata": {},
   "outputs": [
    {
     "name": "stdout",
     "output_type": "stream",
     "text": [
      "São Paulo\n",
      "Rio de Janeiro\n"
     ]
    }
   ],
   "source": [
    "estado_sigla = {\"São Paulo\": \"SP\", \"Rio de Janeiro\": \"RJ\"}\n",
    "for estado in estado_sigla:\n",
    "    print(estado)"
   ]
  },
  {
   "cell_type": "code",
   "execution_count": 12,
   "metadata": {},
   "outputs": [
    {
     "name": "stdout",
     "output_type": "stream",
     "text": [
      "SP\n",
      "RJ\n"
     ]
    }
   ],
   "source": [
    "for sigla in estado_sigla.values():\n",
    "    print(sigla)"
   ]
  },
  {
   "cell_type": "code",
   "execution_count": 13,
   "metadata": {},
   "outputs": [
    {
     "name": "stdout",
     "output_type": "stream",
     "text": [
      "São Paulo\n",
      "Rio de Janeiro\n"
     ]
    }
   ],
   "source": [
    "for estado in estado_sigla.keys():\n",
    "    print(estado)"
   ]
  },
  {
   "cell_type": "code",
   "execution_count": 17,
   "metadata": {},
   "outputs": [
    {
     "data": {
      "text/plain": [
       "dict_items([('São Paulo', 'SP'), ('Rio de Janeiro', 'RJ')])"
      ]
     },
     "execution_count": 17,
     "metadata": {},
     "output_type": "execute_result"
    }
   ],
   "source": [
    "estado_sigla.items() # lista de tuples "
   ]
  },
  {
   "cell_type": "code",
   "execution_count": 20,
   "metadata": {},
   "outputs": [
    {
     "name": "stdout",
     "output_type": "stream",
     "text": [
      "A chave \"São Paulo\" tem o valor \"SP\"\n",
      "A chave \"Rio de Janeiro\" tem o valor \"RJ\"\n"
     ]
    }
   ],
   "source": [
    "for key, value in estado_sigla.items():\n",
    "    print(f'A chave \"{key}\" tem o valor \"{value}\"') # vai \"desempacotar\" os elementos do tuple "
   ]
  },
  {
   "cell_type": "code",
   "execution_count": null,
   "metadata": {},
   "outputs": [],
   "source": [
    "print(range(10))\n",
    "type(range(10))\n",
    "for x in range(10):\n",
    "    print(x)"
   ]
  },
  {
   "cell_type": "code",
   "execution_count": 24,
   "metadata": {},
   "outputs": [
    {
     "name": "stdout",
     "output_type": "stream",
     "text": [
      "0\n",
      "hello\n",
      "1\n",
      "hello\n",
      "2\n",
      "hello\n",
      "3\n",
      "hello\n",
      "4\n",
      "hello\n",
      "5\n",
      "hello\n",
      "6\n",
      "hello\n",
      "7\n",
      "hello\n",
      "8\n",
      "hello\n",
      "9\n",
      "hello\n",
      "10\n",
      "hello\n"
     ]
    }
   ],
   "source": [
    "n = 0\n",
    "while n <= 10:\n",
    "    print(n)\n",
    "    print(\"hello\")\n",
    "    n += 1\n",
    "    "
   ]
  },
  {
   "cell_type": "code",
   "execution_count": 31,
   "metadata": {},
   "outputs": [],
   "source": [
    "fechamento = dict()\n",
    "\n",
    "nome = input(\"Digite o nome do aluno: \")\n",
    "\n",
    "fechamento[nome] = []\n",
    "\n",
    "condicao = \"S\"\n",
    "\n",
    "while condicao == \"S\":\n",
    "    nota = int(input(\"Digite uma nota: \"))\n",
    "    fechamento[nome].append(nota)\n",
    "    condicao = input(\"Deseja entrar com outra nota? S ou N?\").upper()\n",
    "    if len(condicao) == 1 and condicao == \"S\":\n",
    "        continue\n",
    "    elif len(condicao) == 1 and condicao == \"N\":\n",
    "        break\n",
    "    else:\n",
    "        print(\"Condição inválida! Digite uma condição válida!\")\n",
    "        condicao = input(\"Deseja entrar com outra nota? S ou N?\").upper()"
   ]
  }
 ],
 "metadata": {
  "interpreter": {
   "hash": "ba5d83a24314f874713dbd21a8c2b742625751d404308deb09f845d2c2b21efb"
  },
  "kernelspec": {
   "display_name": "Python 3.9.7 ('nvenv')",
   "language": "python",
   "name": "python3"
  },
  "language_info": {
   "codemirror_mode": {
    "name": "ipython",
    "version": 3
   },
   "file_extension": ".py",
   "mimetype": "text/x-python",
   "name": "python",
   "nbconvert_exporter": "python",
   "pygments_lexer": "ipython3",
   "version": "3.9.7"
  },
  "orig_nbformat": 4
 },
 "nbformat": 4,
 "nbformat_minor": 2
}
