{
 "cells": [
  {
   "cell_type": "markdown",
   "id": "58421a5e",
   "metadata": {},
   "source": [
    "# Lista de Exercícios 01: Tipos Numéricos"
   ]
  },
  {
   "cell_type": "markdown",
   "id": "565f0a41",
   "metadata": {},
   "source": [
    "## Exercício 1: \n",
    "Faça um programa que receba dois números inteiros do usuário, A e B e imprima na tela as seguintes operações:\n",
    "\n",
    "•\tA soma de A e B;\n",
    "\n",
    "•\tA diferença quando se subtrai B de A;\n",
    "\n",
    "•\tO produto (multiplicação) entre A e B;\n",
    "\n",
    "•\tO quociente (parte inteira da divisão) quando se divide A por B;\n",
    "\n",
    "•\tO resto da divisão entre A e B;\n",
    "\n",
    "•\tO resultado de log10 de A;\n",
    "\n",
    "•\tO resultado de A elevado a B;"
   ]
  },
  {
   "cell_type": "code",
   "execution_count": 1,
   "id": "4d7c246a",
   "metadata": {},
   "outputs": [
    {
     "name": "stdout",
     "output_type": "stream",
     "text": [
      "Escolha um número para a: 5\n",
      "Escolha um número para b: 9\n"
     ]
    },
    {
     "data": {
      "text/plain": [
       "14"
      ]
     },
     "execution_count": 1,
     "metadata": {},
     "output_type": "execute_result"
    }
   ],
   "source": [
    "# soma de A e B:\n",
    "a = int(input(\"Escolha um número para a: \"))\n",
    "b = int(input(\"Escolha um número para b: \"))\n",
    "\n",
    "soma = a + b\n",
    "soma"
   ]
  },
  {
   "cell_type": "code",
   "execution_count": 2,
   "id": "596377d3",
   "metadata": {},
   "outputs": [
    {
     "name": "stdout",
     "output_type": "stream",
     "text": [
      "Escolha um número para a: 5\n",
      "Escolha um número para b: 9\n"
     ]
    },
    {
     "data": {
      "text/plain": [
       "4"
      ]
     },
     "execution_count": 2,
     "metadata": {},
     "output_type": "execute_result"
    }
   ],
   "source": [
    "# a diferença quando se subtrai B de A:\n",
    "a = int(input(\"Escolha um número para a: \"))\n",
    "b = int(input(\"Escolha um número para b: \"))\n",
    "\n",
    "dif = b - a\n",
    "dif"
   ]
  },
  {
   "cell_type": "code",
   "execution_count": 3,
   "id": "c26ad1ed",
   "metadata": {},
   "outputs": [
    {
     "name": "stdout",
     "output_type": "stream",
     "text": [
      "Escolha um número para a: 5\n",
      "Escolha um número para b: 9\n"
     ]
    },
    {
     "data": {
      "text/plain": [
       "45"
      ]
     },
     "execution_count": 3,
     "metadata": {},
     "output_type": "execute_result"
    }
   ],
   "source": [
    "# o produto entre A e B:\n",
    "a = int(input(\"Escolha um número para a: \"))\n",
    "b = int(input(\"Escolha um número para b: \"))\n",
    "\n",
    "prod = a * b\n",
    "prod"
   ]
  },
  {
   "cell_type": "code",
   "execution_count": 8,
   "id": "e40e2af2",
   "metadata": {},
   "outputs": [
    {
     "name": "stdout",
     "output_type": "stream",
     "text": [
      "Escolha um número para a: 8\n",
      "Escolha um número para b: 3\n"
     ]
    },
    {
     "data": {
      "text/plain": [
       "2"
      ]
     },
     "execution_count": 8,
     "metadata": {},
     "output_type": "execute_result"
    }
   ],
   "source": [
    "# o quociente (parte inteira) quando se divide A por B:\n",
    "a = int(input(\"Escolha um número para a: \"))\n",
    "b = int(input(\"Escolha um número para b: \"))\n",
    "\n",
    "quo = a // b\n",
    "quo"
   ]
  },
  {
   "cell_type": "code",
   "execution_count": 10,
   "id": "bf11a6be",
   "metadata": {},
   "outputs": [
    {
     "name": "stdout",
     "output_type": "stream",
     "text": [
      "Escolha um número para a: 7\n",
      "Escolha um número para b: 3\n"
     ]
    },
    {
     "data": {
      "text/plain": [
       "1"
      ]
     },
     "execution_count": 10,
     "metadata": {},
     "output_type": "execute_result"
    }
   ],
   "source": [
    "# o resto da divisão entre A e B:\n",
    "a = int(input(\"Escolha um número para a: \"))\n",
    "b = int(input(\"Escolha um número para b: \"))\n",
    "\n",
    "res = a % b\n",
    "res"
   ]
  },
  {
   "cell_type": "code",
   "execution_count": 11,
   "id": "c085b7a9",
   "metadata": {},
   "outputs": [
    {
     "name": "stdout",
     "output_type": "stream",
     "text": [
      "Escolha um número para a: 100\n"
     ]
    },
    {
     "data": {
      "text/plain": [
       "2.0"
      ]
     },
     "execution_count": 11,
     "metadata": {},
     "output_type": "execute_result"
    }
   ],
   "source": [
    "# o resultado de log10 de A:\n",
    "a = int(input(\"Escolha um número para a: \"))\n",
    "\n",
    "from math import log10\n",
    "log10(a)"
   ]
  },
  {
   "cell_type": "code",
   "execution_count": 12,
   "id": "84790934",
   "metadata": {},
   "outputs": [
    {
     "name": "stdout",
     "output_type": "stream",
     "text": [
      "Escolha um número para a: 2\n",
      "Escolha um número para b: 3\n"
     ]
    },
    {
     "data": {
      "text/plain": [
       "8"
      ]
     },
     "execution_count": 12,
     "metadata": {},
     "output_type": "execute_result"
    }
   ],
   "source": [
    "# o resultado de A elevado a B:\n",
    "a = int(input(\"Escolha um número para a: \"))\n",
    "b = int(input(\"Escolha um número para b: \"))\n",
    "\n",
    "elev = a ** b\n",
    "elev"
   ]
  },
  {
   "cell_type": "markdown",
   "id": "1a6f9861",
   "metadata": {},
   "source": [
    "## Exercício 2:\n",
    "Faça um programa que receba a base e altura de um triângulo e imprima a área dele."
   ]
  },
  {
   "cell_type": "code",
   "execution_count": 14,
   "id": "4b5365f9",
   "metadata": {},
   "outputs": [
    {
     "name": "stdout",
     "output_type": "stream",
     "text": [
      "Valor da base: 100\n",
      "Valor da altura: 50\n"
     ]
    },
    {
     "data": {
      "text/plain": [
       "2500.0"
      ]
     },
     "execution_count": 14,
     "metadata": {},
     "output_type": "execute_result"
    }
   ],
   "source": [
    "base = float(input(\"Valor da base: \"))\n",
    "altura = float(input(\"Valor da altura: \"))\n",
    "\n",
    "area_triangulo = (base * altura) / 2\n",
    "area_triangulo"
   ]
  },
  {
   "cell_type": "markdown",
   "id": "a8a7a7fc",
   "metadata": {},
   "source": [
    "## Exercício 3:\n",
    "No exercício acima você calculou a área de um triângulo a partir da sua base e altura. Faça um programa que receba os 3 lados de um triângulo – s1, s2 e s3 – e calcule sua área. Compare a resposta com o exercício acima, dada das mesmas entradas. Os resultados devem ser idênticos."
   ]
  },
  {
   "cell_type": "code",
   "execution_count": 25,
   "id": "048c8990",
   "metadata": {},
   "outputs": [
    {
     "name": "stdout",
     "output_type": "stream",
     "text": [
      "Valor do lado 1 do triângulo: 10\n",
      "Valor do lado 2 do triângulo: 10\n",
      "Valor do lado 3 do triângulo: 10\n",
      "A área do triângulo é 43.30.\n"
     ]
    }
   ],
   "source": [
    "from math import sqrt\n",
    "\n",
    "s1 = float(input(\"Valor do lado 1 do triângulo: \"))\n",
    "s2 = float(input(\"Valor do lado 2 do triângulo: \"))\n",
    "s3 = float(input(\"Valor do lado 3 do triângulo: \"))\n",
    "\n",
    "s = (s1 + s2 + s3) / 2\n",
    "area_tri_new = sqrt(s*(s-s1)*(s-s2)*(s-s3))\n",
    "print(f\"A área do triângulo é {area_tri_new:.2f}.\")"
   ]
  },
  {
   "cell_type": "markdown",
   "id": "ad50bbb3",
   "metadata": {},
   "source": [
    "## Exercício 4:\n",
    "Faça um programa que receba do usuário seu peso em kg e altura em metros e imprima o Índice de Massa Corporal (IMC) do usuário."
   ]
  },
  {
   "cell_type": "code",
   "execution_count": 31,
   "id": "081f5ac9",
   "metadata": {},
   "outputs": [
    {
     "name": "stdout",
     "output_type": "stream",
     "text": [
      "Peso em kg: 75\n",
      "Altura em cm: 1.65\n"
     ]
    },
    {
     "data": {
      "text/plain": [
       "27.548209366391188"
      ]
     },
     "execution_count": 31,
     "metadata": {},
     "output_type": "execute_result"
    }
   ],
   "source": [
    "peso = float(input(\"Peso em kg: \"))\n",
    "alt = float(input(\"Altura em cm: \"))\n",
    "\n",
    "imc = peso / (alt ** 2)\n",
    "imc"
   ]
  },
  {
   "cell_type": "markdown",
   "id": "bd7f14df",
   "metadata": {},
   "source": [
    "## Exercício 5:\n",
    "Escreva um programa que leia do usuário um número de 4 dígitos e imprima a soma destes dígitos. Exemplo, se o usuário digitar 3141 seu programa deverá imprimir na tela 3+1+4+1=9."
   ]
  },
  {
   "cell_type": "code",
   "execution_count": 35,
   "id": "8a88acc3",
   "metadata": {},
   "outputs": [
    {
     "name": "stdout",
     "output_type": "stream",
     "text": [
      "Digite um número de 4 dígitos: 3141\n"
     ]
    },
    {
     "data": {
      "text/plain": [
       "9"
      ]
     },
     "execution_count": 35,
     "metadata": {},
     "output_type": "execute_result"
    }
   ],
   "source": [
    "num = input(\"Digite um número de 4 dígitos: \")\n",
    "\n",
    "soma_num = int(num[0]) + int(num[1]) + int(num[2]) + int(num[3])\n",
    "soma_num"
   ]
  }
 ],
 "metadata": {
  "kernelspec": {
   "display_name": "Python [conda env:dand] *",
   "language": "python",
   "name": "conda-env-dand-py"
  },
  "language_info": {
   "codemirror_mode": {
    "name": "ipython",
    "version": 3
   },
   "file_extension": ".py",
   "mimetype": "text/x-python",
   "name": "python",
   "nbconvert_exporter": "python",
   "pygments_lexer": "ipython3",
   "version": "3.8.12"
  }
 },
 "nbformat": 4,
 "nbformat_minor": 5
}
