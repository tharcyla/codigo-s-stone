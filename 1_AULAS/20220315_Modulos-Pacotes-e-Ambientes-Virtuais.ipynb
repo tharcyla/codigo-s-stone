{
 "cells": [
  {
   "cell_type": "markdown",
   "id": "53f0b92e",
   "metadata": {},
   "source": [
    "## Definições (informais do facilitador!)\n",
    "- Script: arquivo .py com comandos Python\n",
    "- Módulo: arquivo .py somente com funções e definições\n",
    "- Pacote: pasta com vários módulos\n",
    "- Ambiente virtual: ambiente isolado para projetos"
   ]
  },
  {
   "cell_type": "code",
   "execution_count": null,
   "id": "80e7b787",
   "metadata": {},
   "outputs": [],
   "source": []
  }
 ],
 "metadata": {
  "kernelspec": {
   "display_name": "Python [conda env:dand] *",
   "language": "python",
   "name": "conda-env-dand-py"
  },
  "language_info": {
   "codemirror_mode": {
    "name": "ipython",
    "version": 3
   },
   "file_extension": ".py",
   "mimetype": "text/x-python",
   "name": "python",
   "nbconvert_exporter": "python",
   "pygments_lexer": "ipython3",
   "version": "3.8.12"
  }
 },
 "nbformat": 4,
 "nbformat_minor": 5
}
