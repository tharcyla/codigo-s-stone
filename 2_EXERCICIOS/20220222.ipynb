{
 "cells": [
  {
   "cell_type": "markdown",
   "metadata": {},
   "source": [
    "### Exercícios "
   ]
  },
  {
   "cell_type": "code",
   "execution_count": 23,
   "metadata": {},
   "outputs": [],
   "source": [
    "##############################################################################\n",
    "# Parte do livro Introdução à Programação com Python\n",
    "# Autor: Nilo Ney Coutinho Menezes\n",
    "# Editora Novatec (c) 2010-2020\n",
    "# Primeira edição - Novembro/2010 - ISBN 978-85-7522-250-8\n",
    "# Segunda edição - Junho/2014 - ISBN 978-85-7522-408-3\n",
    "# Terceira Edição - Janeiro/2019 - ISBN 978-85-7522-718-3\n",
    "#\n",
    "# Site: https://python.nilo.pro.br/\n",
    "#\n",
    "# Arquivo: exercicios3\\capitulo 02\\exercicio-02-01.py\n",
    "##############################################################################"
   ]
  },
  {
   "cell_type": "code",
   "execution_count": 24,
   "metadata": {},
   "outputs": [
    {
     "name": "stdout",
     "output_type": "stream",
     "text": [
      "Os resultados das expressões 1, 2 e 3 são 610, 0.5333333333333333 e 39377, respectivamente.\n"
     ]
    }
   ],
   "source": [
    "\"\"\"\n",
    "Exercício 02-01: Converta Expressões matemáticas para Python\n",
    "Converta as seguintes expressões matemáticas para que possam ser calculadas usando o interpretador Python.\n",
    "10 + 20 × 30\n",
    "4^2 ÷ 30\n",
    "(9^4 + 2) × 6 - 1\n",
    "\"\"\"\n",
    "var1 = 10 + (20 * 30)\n",
    "var2 = (4 ** 2)/30 \n",
    "var3 = (((9**4) + 2) * 6) - 1\n",
    "\n",
    "print(f\"Os resultados das expressões 1, 2 e 3 são {var1}, {var2} e {var3}, respectivamente.\")"
   ]
  },
  {
   "cell_type": "code",
   "execution_count": 25,
   "metadata": {},
   "outputs": [
    {
     "name": "stdout",
     "output_type": "stream",
     "text": [
      "81.0\n"
     ]
    }
   ],
   "source": [
    "\"\"\"\n",
    "Exercício 02-02: Converta uma expressão matemática no interpretador\n",
    "Digite a seguinte expressão no interpretador:\n",
    "10 % 3 * 10 ** 2 + 1 - 10 * 4 / 2\n",
    "Tente resolver o mesmo cálculo, usando apenas lápis e papel. \n",
    "Observe como a prioridade das operações é importante.\n",
    "\n",
    "\"\"\"\n",
    "var1 = 10 % 3 * 10 ** 2 + 1 - 10 * 4 / 2\n",
    "print(exp4)"
   ]
  },
  {
   "cell_type": "code",
   "execution_count": 26,
   "metadata": {},
   "outputs": [
    {
     "name": "stdout",
     "output_type": "stream",
     "text": [
      "Meu nome é Tharcyla Mourao.\n"
     ]
    }
   ],
   "source": [
    "\"\"\"\n",
    "Exercício 02-03: Faça um programa que exiba seu nome na tela\n",
    "\"\"\"\n",
    "name = \"Tharcyla Mourao\"\n",
    "print(f\"Meu nome é {name}.\")"
   ]
  },
  {
   "cell_type": "code",
   "execution_count": 27,
   "metadata": {},
   "outputs": [
    {
     "name": "stdout",
     "output_type": "stream",
     "text": [
      "90\n"
     ]
    }
   ],
   "source": [
    "\"\"\"\n",
    "Exercício 02-04: Converta uma expressão matemática para Python\n",
    "Escreva um programa que exiba o resultado de 2a × 3b, em que a vale 3 e b vale 5.\n",
    "\"\"\"\n",
    "a = 3\n",
    "b = 5\n",
    "var1 = (2 * a * 3 * b)\n",
    "print(var1)"
   ]
  },
  {
   "cell_type": "code",
   "execution_count": 29,
   "metadata": {},
   "outputs": [
    {
     "name": "stdout",
     "output_type": "stream",
     "text": [
      "9\n"
     ]
    }
   ],
   "source": [
    "\"\"\"\n",
    "Exercício 02-05: Escreva um programa que calcule a soma de três variáveis e imprima o resultado na tela\n",
    "Escreva um programa que calcule a soma de três variáveis e imprima o resultado na tela.\n",
    "\"\"\"\n",
    "var1 = 2\n",
    "var2 = 3\n",
    "var3 = 4\n",
    "print(var1 + var2 + var3)"
   ]
  },
  {
   "cell_type": "code",
   "execution_count": 31,
   "metadata": {},
   "outputs": [
    {
     "name": "stdout",
     "output_type": "stream",
     "text": [
      "862.4999999999999\n"
     ]
    }
   ],
   "source": [
    "\"\"\"\n",
    "Exercício 02-06: Cálculo do aumento de salário\n",
    "Modifique o Programa 2.2, de forma que ele calcule um aumento de 15% para um salário de R$ 750.\n",
    "\"\"\"\n",
    "salario = 750\n",
    "aumento = 1.15\n",
    "\n",
    "print(salario * aumento)"
   ]
  },
  {
   "cell_type": "code",
   "execution_count": 33,
   "metadata": {},
   "outputs": [
    {
     "name": "stdout",
     "output_type": "stream",
     "text": [
      "<class 'int'>\n",
      "<class 'float'>\n",
      "<class 'float'>\n",
      "<class 'int'>\n",
      "<class 'int'>\n",
      "<class 'float'>\n"
     ]
    }
   ],
   "source": [
    "\"\"\"\n",
    "Exercício 03-01: Complete a tabela com o tipo numérico correspondente\n",
    "Complete a tabela a seguir, marcando inteiro ou ponto flutuante dependendo do número apresentado.\n",
    "\n",
    "    Número      Tipo numérico\n",
    "    5      int\n",
    "    5.0    float\n",
    "    4.3    float\n",
    "    -2     int\n",
    "    100    int\n",
    "    1.333  float\n",
    "\"\"\"\n",
    "\n",
    "print(type(5))\n",
    "print(type(5.0))\n",
    "print(type(4.3))\n",
    "print(type(-2))\n",
    "print(type(100))\n",
    "print(type(1.333))"
   ]
  },
  {
   "cell_type": "code",
   "execution_count": 39,
   "metadata": {},
   "outputs": [
    {
     "name": "stdout",
     "output_type": "stream",
     "text": [
      "False\n",
      "True\n",
      "False\n",
      "False\n",
      "False\n",
      "False\n",
      "True\n",
      "True\n",
      "True\n",
      "True\n",
      "True\n"
     ]
    }
   ],
   "source": [
    "\"\"\"\n",
    "Exercício 03-02: Complete a tabela com o resultado da expressão booleana correspondente\n",
    "Complete a tabela a seguir, respondendo True ou False. Considere a = 4, b = 10, c = 5.0, d = 1 e f = 5.\n",
    "\n",
    "Expressão Resultado        Expressão Resultado\n",
    "a == c    False            b > a     True\n",
    "a < b     True             c >= f    True\n",
    "d > b     False            f >= c    True\n",
    "c != f    False            c <= c    True\n",
    "a == b    False            c <= f    True\n",
    "c < d     False\n",
    "\"\"\"\n",
    "a = 4\n",
    "b = 10\n",
    "c = 5.0\n",
    "d = 1\n",
    "f = 5\n",
    "\n",
    "print(a == c)\n",
    "print(a < b)\n",
    "print(d > b)\n",
    "print(c != f)\n",
    "print(a == b)\n",
    "print(c < d)\n",
    "print(b > a)\n",
    "print(c >= f)\n",
    "print(f >= c)\n",
    "print(c <= c)\n",
    "print(c <= f)\n",
    "\n",
    "\n"
   ]
  },
  {
   "cell_type": "code",
   "execution_count": null,
   "metadata": {},
   "outputs": [],
   "source": [
    "\"\"\"\n",
    "Exercício 03-03: Complete a tabela a seguir utilizando a = True, b = False e c = True\n",
    "Complete a tabela a seguir utilizando a = True, b = False e c = True.\n",
    "\n",
    "Expressão Resultado         Expressão Resultado\n",
    "a and a   True              a or c    True\n",
    "b and b   False             b or c    True\n",
    "not c     False             c or a    True\n",
    "not b     True              c or b    True\n",
    "not a     False             c or c    True\n",
    "a and b   False             b or b    False\n",
    "b and c   False\n",
    "\"\"\"\n",
    "\n",
    "a = True\n",
    "b = False\n",
    "c = True "
   ]
  },
  {
   "cell_type": "code",
   "execution_count": 58,
   "metadata": {},
   "outputs": [
    {
     "name": "stdout",
     "output_type": "stream",
     "text": [
      "False\n"
     ]
    }
   ],
   "source": [
    "\"\"\"\n",
    "Exercício 03-04: Crie uma expressão para determinar se uma pessoa deve ou não pagar imposto\n",
    "Escreva uma expressão para determinar se uma pessoa deve ou não pagar imposto. Considere que \n",
    "pagam imposto pessoas cujo salário é maior que R$ 1.200,00.\n",
    "\"\"\"\n",
    "salary = 1200\n",
    "def pay_taxes():\n",
    "    if salary > 1200:\n",
    "        return True\n",
    "    else:\n",
    "        return False\n",
    "\n",
    "print(pay_taxes())"
   ]
  },
  {
   "cell_type": "code",
   "execution_count": 51,
   "metadata": {},
   "outputs": [
    {
     "name": "stdout",
     "output_type": "stream",
     "text": [
      "False\n",
      "False\n",
      "True\n"
     ]
    }
   ],
   "source": [
    "\"\"\"\n",
    "Exercício 03-05: Resolva a expressão lógica para os dados da tabela\n",
    "Calcule o resultado da expressão A > B and C or D, utilizando os valores da tabela a seguir.\n",
    "\n",
    "A  B C     D      Resultado\n",
    "1  2 True  False\n",
    "10 3 False False\n",
    "5  1 True  True\n",
    "\"\"\"\n",
    "a = 1\n",
    "b = 2\n",
    "c = True\n",
    "d = False\n",
    "print(a > b and c or d)\n",
    "\n",
    "a = 10\n",
    "b = 3\n",
    "c = False\n",
    "d = False\n",
    "print(a > b and c or d)\n",
    "\n",
    "a = 5\n",
    "b = 1\n",
    "c = True\n",
    "d = True\n",
    "print(a > b and c or d)"
   ]
  },
  {
   "cell_type": "code",
   "execution_count": 57,
   "metadata": {},
   "outputs": [
    {
     "name": "stdout",
     "output_type": "stream",
     "text": [
      "True\n"
     ]
    }
   ],
   "source": [
    "\"\"\"\n",
    "Exercício 03-06: Expressão para decidir se um aluno tem a média para passar de ano\n",
    "Escreva uma expressão que será utilizada para decidir se um aluno foi ou não aprovado. \n",
    "Para ser aprovado, todas as médias do aluno devem ser maiores que 7. Considere que o aluno \n",
    "cursa apenas três matérias, e que a nota de cada uma está armazenada nas seguintes variáveis: \n",
    "matéria1, matéria2 e matéria3.\n",
    "\"\"\"\n",
    "materia1 = 7\n",
    "materia2 = 8\n",
    "materia3 = 7\n",
    "\n",
    "def approval():\n",
    "    if materia1 and materia2 and materia3 >= 7:\n",
    "        return True\n",
    "    else:\n",
    "        return False\n",
    "\n",
    "print(approval())"
   ]
  },
  {
   "cell_type": "code",
   "execution_count": 59,
   "metadata": {},
   "outputs": [
    {
     "name": "stdout",
     "output_type": "stream",
     "text": [
      "4\n"
     ]
    }
   ],
   "source": [
    "\"\"\"\n",
    "Exercício 03-07: Faça um programa que peça dois números inteiros\n",
    "Faça um programa que peça dois números inteiros. Imprima a soma desses dois números na tela.\n",
    "\"\"\"\n",
    "num1 = int(input('Escolha um numero: '))\n",
    "num2 = int(input('Escolha outro numero: '))\n",
    "\n",
    "print(num1 + num2)"
   ]
  },
  {
   "cell_type": "code",
   "execution_count": 75,
   "metadata": {},
   "outputs": [
    {
     "name": "stdout",
     "output_type": "stream",
     "text": [
      "3.58 metros equivalem a 3580.0 milímetros.\n"
     ]
    }
   ],
   "source": [
    "\"\"\"\n",
    "Exercício 03-08: Escreva um programa que leia um valor em metros e o exiba convertido em milímetros\n",
    "Escreva um programa que leia um valor em metros e o exiba convertido em milímetros.\n",
    "\"\"\"\n",
    "length_meters = float(input(\"Digite o valor em metros: \"))\n",
    "\n",
    "def convert():\n",
    "    return length_meters * 1000\n",
    "\n",
    "print(f\"{length_meters} metros equivalem a {convert()} milímetros.\")"
   ]
  },
  {
   "cell_type": "code",
   "execution_count": 76,
   "metadata": {},
   "outputs": [
    {
     "name": "stdout",
     "output_type": "stream",
     "text": [
      "O total em segundos é de 90070.\n"
     ]
    }
   ],
   "source": [
    "\"\"\"\n",
    "Exercício 03-09: Escreva um programa que leia a quantidade de dias, horas, minutos e segundos do \n",
    "usuário. Calcule o total em segundos.\n",
    "\"\"\"\n",
    "days = int(input(\"Dias: \"))\n",
    "hours = int(input(\"Horas: \"))\n",
    "minutes = int(input(\"Minutos: \"))\n",
    "seconds = int(input(\"Segundos: \"))\n",
    "\n",
    "def convert():\n",
    "    return ((days * 24 * 60 * 60) + (hours * 60 * 60) + (minutes * 60) + seconds)\n",
    "\n",
    "print(f\"O total em segundos é de {convert()}.\")"
   ]
  },
  {
   "cell_type": "code",
   "execution_count": 80,
   "metadata": {},
   "outputs": [
    {
     "name": "stdout",
     "output_type": "stream",
     "text": [
      "O novo salario é 110.0.\n"
     ]
    }
   ],
   "source": [
    "\"\"\"\n",
    "Exercício 03-10: Faça um programa que calcule o aumento de um salário. \n",
    "Ele deve solicitar o valor do salário e a porcentagem do aumento. \n",
    "Exiba o valor do aumento e do novo salário.\n",
    "\"\"\"\n",
    "salary = int(input(\"Digite o valor do salario: \"))\n",
    "salary_raise = int(input(\"Digite o valor do aumento sem o '%': \"))\n",
    "\n",
    "def new_salary():\n",
    "    return salary * (1 + (salary_raise/100))\n",
    "\n",
    "print(f\"O novo salario é {new_salary():.1f}.\")"
   ]
  }
 ],
 "metadata": {
  "interpreter": {
   "hash": "ba5d83a24314f874713dbd21a8c2b742625751d404308deb09f845d2c2b21efb"
  },
  "kernelspec": {
   "display_name": "Python 3.9.7 ('nvenv')",
   "language": "python",
   "name": "python3"
  },
  "language_info": {
   "codemirror_mode": {
    "name": "ipython",
    "version": 3
   },
   "file_extension": ".py",
   "mimetype": "text/x-python",
   "name": "python",
   "nbconvert_exporter": "python",
   "pygments_lexer": "ipython3",
   "version": "3.9.7"
  },
  "orig_nbformat": 4
 },
 "nbformat": 4,
 "nbformat_minor": 2
}
