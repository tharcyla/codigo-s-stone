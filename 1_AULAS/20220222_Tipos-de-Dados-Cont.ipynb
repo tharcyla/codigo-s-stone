{
 "cells": [
  {
   "cell_type": "code",
   "execution_count": 2,
   "metadata": {},
   "outputs": [
    {
     "name": "stdout",
     "output_type": "stream",
     "text": [
      "['Thárcyla', 'Gonçalves', 'Mourão']\n",
      "<class 'list'>\n"
     ]
    }
   ],
   "source": [
    "nome = \"Thárcyla Gonçalves Mourão\"\n",
    "\n",
    "print(nome.split())\n",
    "print(type(nome.split()))"
   ]
  },
  {
   "cell_type": "code",
   "execution_count": 19,
   "metadata": {},
   "outputs": [
    {
     "name": "stdout",
     "output_type": "stream",
     "text": [
      "A media da aluna Thárcyla Mourão é 8.07\n"
     ]
    }
   ],
   "source": [
    "aluno = \"Thárcyla Mourão\"\n",
    "\n",
    "notas = [10.2, 8, 6]\n",
    "\n",
    "media = sum(notas) / len(notas)\n",
    "media_arred = round(media, 2)\n",
    "\n",
    "print(f\"A media da aluna {aluno} é {media_arred}\")\n"
   ]
  },
  {
   "cell_type": "code",
   "execution_count": 20,
   "metadata": {},
   "outputs": [
    {
     "name": "stdout",
     "output_type": "stream",
     "text": [
      "10.2\n",
      "<class 'float'>\n",
      "A primeira nota é do tipo <class 'float'>.\n",
      "A primeira letra do meu nome é T.\n",
      "Meu nome tem 25 caracteres.\n"
     ]
    }
   ],
   "source": [
    "# Remember Python uses zero-indexing\n",
    "print(notas[0]) # >>> 10\n",
    "print(type(notas[0]))\n",
    "\n",
    "notas = [10.2, 8, 6]\n",
    "print(f\"A primeira nota é do tipo {type(notas[0])}.\")\n",
    "\n",
    "nome = \"Thárcyla Gonçalves Mourão\"\n",
    "\n",
    "print(f\"A primeira letra do meu nome é {nome[0]}.\")\n",
    "print(f\"Meu nome tem {len(nome)} caracteres.\")"
   ]
  },
  {
   "cell_type": "code",
   "execution_count": 24,
   "metadata": {},
   "outputs": [
    {
     "name": "stdout",
     "output_type": "stream",
     "text": [
      "Lista interna: [4, 5, 6, 7]\n",
      "Pegando um número específico da lista interna: 4\n"
     ]
    }
   ],
   "source": [
    "lista_exemplo = [10, 4.5, nome, [4, 5, 6, 7]]\n",
    "print(f\"Lista interna: {lista_exemplo[3]}\")\n",
    "print(f\"Pegando um número específico da lista interna: {lista_exemplo[3][0]}\")"
   ]
  },
  {
   "cell_type": "code",
   "execution_count": 25,
   "metadata": {},
   "outputs": [
    {
     "name": "stdout",
     "output_type": "stream",
     "text": [
      "Lista interna: [1, 2, 3]\n"
     ]
    }
   ],
   "source": [
    "matriz = [[1, 2, 3], [4, 5, 6], [7, 8, 9]]\n",
    "print(f\"Lista interna: {matriz[0]}\")"
   ]
  },
  {
   "cell_type": "code",
   "execution_count": 62,
   "metadata": {},
   "outputs": [
    {
     "name": "stdout",
     "output_type": "stream",
     "text": [
      "Notas [10, 7, 9, 10].\n",
      "Notas [10, 7, 9, 10, 8, 9, 4].\n",
      "Notas [2, 10, 7, 9, 10, 8, 9, 4]. \n",
      "\n",
      "[2, 4, 7, 8, 9, 9, 10, 10] \n",
      "\n",
      "Há 2 notas 10 na lista.\n"
     ]
    }
   ],
   "source": [
    "# Lists\n",
    "\n",
    "notas = [10, 7, 9]\n",
    "\n",
    "notas.append(10)\n",
    "print(f\"Notas {notas}.\")\n",
    "\n",
    "# Extend vai adicionar cada elemento do iterable\n",
    "notas.extend([8, 9, 4])\n",
    "print(f\"Notas {notas}.\")\n",
    "\n",
    "# Insert insere um elemento em uma dada posição\n",
    "notas.insert(0, 2) # list.insert(i, x), i sendo a posição, 2 sendo o elemento novo a ser adicionado\n",
    "print(f\"Notas {notas}.\", '\\n')\n",
    "\n",
    "notas_sorted = notas.sort()\n",
    "print(notas, '\\n')\n",
    "\n",
    "# Contar a quantidade de notas 10\n",
    "print(f\"Há {notas.count(10)} notas 10 na lista.\")\n",
    "\n",
    "# Como os métodos podem demonstrar, lists são mutáveis"
   ]
  },
  {
   "cell_type": "code",
   "execution_count": 74,
   "metadata": {},
   "outputs": [
    {
     "name": "stdout",
     "output_type": "stream",
     "text": [
      "Último caracter: '!'\n",
      "Frase com letras maiúsculas: MATHEUS, O CARIOCA!\n",
      "Nome original: MATHEUS, O CARIOCA!\n",
      "Nome modificado: MATHEUS, O CARIOCA.\n"
     ]
    }
   ],
   "source": [
    "nome = \"Matheus, o carioca!\"\n",
    "# nome[-1] = \".\"\n",
    "# Strings são imutáveis. Os métodos não fazem mudanças permanentes na string\n",
    "# O único jeito é sobrescreve-la:\n",
    "nome = nome.upper()\n",
    "\n",
    "print(f\"Último caracter: '{nome[-1]}'\")\n",
    "print(f\"Frase com letras maiúsculas: {nome.upper()}\")\n",
    "print(f\"Nome original: {nome}\")\n",
    "\n",
    "nome = nome.replace(\"!\", \".\")\n",
    "print(f\"Nome modificado: {nome}\")"
   ]
  },
  {
   "cell_type": "code",
   "execution_count": 79,
   "metadata": {},
   "outputs": [
    {
     "name": "stdout",
     "output_type": "stream",
     "text": [
      "<class 'tuple'>\n",
      "<class 'tuple'>\n",
      "1\n",
      "3\n"
     ]
    }
   ],
   "source": [
    "# Tuples\n",
    "notas = (1, 2, 3)\n",
    "print(type(notas))\n",
    "\n",
    "meses = (\"Jan\", \"Fev\", \"Mar\", \"Abr\")\n",
    "print(type(meses))\n",
    "\n",
    "# Tuple object does not support item assignment\n",
    "# Um bom exemplo de tuple é o nosso CPF\n",
    "\n",
    "print(meses.count(\"Jan\")) # contar quantas vezes aparece \"Jan\"\n",
    "print(meses.index(\"Abr\")) # mostrar a posição de determinado elemento\n",
    "\n",
    "# lists são mutáveis\n",
    "# tuples são imutáveis \n",
    "# strings são imutáveis"
   ]
  },
  {
   "cell_type": "code",
   "execution_count": 88,
   "metadata": {},
   "outputs": [
    {
     "name": "stdout",
     "output_type": "stream",
     "text": [
      "São Paulo\n",
      "{'notas': [10, 4, 7], 'alunos': ['João', 'Maria', 'Tiago', 'Ander']}\n",
      "{'notas': [10, 4, 7], 'alunos': ['João', 'Maria', 'Tiago', 'Ander'], 'notas_recuperacao': [2, 1, 0]}\n"
     ]
    }
   ],
   "source": [
    "# Dicionaries\n",
    "estados = {\"SP\": \"São Paulo\", \"MG\": \"Minas Gerais\"}\n",
    "\n",
    "print(estados[\"SP\"])\n",
    "\n",
    "fechamento = {\"notas\": [10, 4, 7], \"alunos\": [\"João\", \"Maria\", \"Tiago\"]}\n",
    "fechamento[\"alunos\"].append(\"Ander\")\n",
    "print(fechamento)\n",
    "\n",
    "fechamento[\"notas_recuperacao\"] = [2, 1, 0]\n",
    "print(fechamento)"
   ]
  },
  {
   "cell_type": "code",
   "execution_count": 95,
   "metadata": {},
   "outputs": [
    {
     "name": "stdout",
     "output_type": "stream",
     "text": [
      "['notas', 'alunos', 'notas_recuperacao']\n",
      "3\n",
      "True\n",
      "dict_items([('notas', [10, 4, 7]), ('alunos', ['João', 'Maria', 'Tiago', 'Ander']), ('notas_recuperacao', [2, 1, 0])])\n",
      "dict_keys(['notas', 'alunos', 'notas_recuperacao'])\n"
     ]
    }
   ],
   "source": [
    "# Dict Methods\n",
    "print(list(fechamento)) # > lista das chaves\n",
    "print(len(fechamento)) # > quantidade de chaves do dict \n",
    "print(\"notas\" in fechamento) # > tenho essa chave \"notas\" no meu dict \"fechamento\"? Sim, logo, True\n",
    "print(fechamento.items()) # > tuples com pares de key-values \n",
    "print(fechamento.keys()) # > retorna as chaves"
   ]
  },
  {
   "cell_type": "code",
   "execution_count": 97,
   "metadata": {},
   "outputs": [
    {
     "name": "stdout",
     "output_type": "stream",
     "text": [
      "<class 'set'>\n",
      "{'a', 'y', 'r', 'T', 'á', 'l', 'h', 'c'}\n"
     ]
    }
   ],
   "source": [
    "# Sets\n",
    "# Exibe os elementos únicos\n",
    "# Teoria dos conjuntos\n",
    "# No SQL, seria o SELECT DISTINCT\n",
    "nome = \"Thárcyla\"\n",
    "nome_mae = \"Claudia\"\n",
    "\n",
    "print(type(set(nome)))\n",
    "print(set(nome))"
   ]
  },
  {
   "cell_type": "code",
   "execution_count": 99,
   "metadata": {},
   "outputs": [
    {
     "name": "stdout",
     "output_type": "stream",
     "text": [
      "{'a', 'l'}\n",
      "{'y', 'r', 'c', 'T', 'á', 'h'}\n"
     ]
    }
   ],
   "source": [
    "# Set Methods\n",
    "nome_set = set(nome)\n",
    "nome_mae_set = set(nome_mae)\n",
    "\n",
    "print(nome_set.intersection(nome_mae_set)) # letras em comum\n",
    "print(nome_set - nome_mae_set)"
   ]
  }
 ],
 "metadata": {
  "interpreter": {
   "hash": "ba5d83a24314f874713dbd21a8c2b742625751d404308deb09f845d2c2b21efb"
  },
  "kernelspec": {
   "display_name": "Python 3 (ipykernel)",
   "language": "python",
   "name": "python3"
  },
  "language_info": {
   "codemirror_mode": {
    "name": "ipython",
    "version": 3
   },
   "file_extension": ".py",
   "mimetype": "text/x-python",
   "name": "python",
   "nbconvert_exporter": "python",
   "pygments_lexer": "ipython3",
   "version": "3.9.7"
  }
 },
 "nbformat": 4,
 "nbformat_minor": 2
}
