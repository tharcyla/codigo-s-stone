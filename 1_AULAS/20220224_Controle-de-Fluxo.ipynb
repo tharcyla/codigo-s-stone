{
 "cells": [
  {
   "cell_type": "markdown",
   "metadata": {},
   "source": [
    "# Controle de Fluxo"
   ]
  },
  {
   "cell_type": "code",
   "execution_count": 1,
   "metadata": {},
   "outputs": [
    {
     "name": "stdout",
     "output_type": "stream",
     "text": [
      "A aluna Thárcyla Mourão foi aprovada com média 10.\n"
     ]
    }
   ],
   "source": [
    "aluno = \"Thárcyla Mourão\"\n",
    "nota1 = float(input(\"Digite a primeira nota: \"))\n",
    "nota2 = float(input(\"Digite a segunda nota: \"))\n",
    "nota3 = float(input(\"Digite a terceira nota: \"))\n",
    "\n",
    "nota_minima_aprovacao = 7\n",
    "nota_minima_rec = 6\n",
    "\n",
    "media = (nota1 + nota2 + nota3) / 3\n",
    "media_round = round(media, 2)\n",
    "\n",
    "if (media >= nota_minima_aprovacao):\n",
    "    status = \"aprovada\"\n",
    "    media_round = 10\n",
    "elif media >= nota_minima_rec:\n",
    "    status = \"recuperação\"\n",
    "else:\n",
    "    status = \"reprovada\"\n",
    "\n",
    "print(f\"A aluna {aluno} foi {status} com média {media_round}.\")\n",
    "\n"
   ]
  },
  {
   "cell_type": "code",
   "execution_count": 2,
   "metadata": {},
   "outputs": [
    {
     "name": "stdout",
     "output_type": "stream",
     "text": [
      "A aluna Thárcyla Mourão foi aprovada com média 10.\n"
     ]
    }
   ],
   "source": [
    "aluno = \"Thárcyla Mourão\"\n",
    "nota1 = float(input(\"Digite a primeira nota: \"))\n",
    "nota2 = float(input(\"Digite a segunda nota: \"))\n",
    "nota3 = float(input(\"Digite a terceira nota: \"))\n",
    "\n",
    "nota_minima_aprovacao = 7\n",
    "nota_minima_rec = 6\n",
    "\n",
    "media = (nota1 + nota2 + nota3) / 3\n",
    "media_round = round(media, 2)\n",
    "\n",
    "if (media >= nota_minima_aprovacao) and (\"Thárcyla Mourão\" in aluno):\n",
    "    status = \"aprovada\"\n",
    "    media_round = 10\n",
    "elif media >= nota_minima_rec:\n",
    "    status = \"recuperação\"\n",
    "else:\n",
    "    status = \"reprovada\"\n",
    "\n",
    "print(f\"A aluna {aluno} foi {status} com média {media_round}.\")"
   ]
  },
  {
   "cell_type": "code",
   "execution_count": 3,
   "metadata": {},
   "outputs": [
    {
     "name": "stdout",
     "output_type": "stream",
     "text": [
      "A aluna Thárcyla Mourão foi recuperação com média 7.33.\n"
     ]
    }
   ],
   "source": [
    "aluno = \"Thárcyla Mourão\"\n",
    "nota1 = float(input(\"Digite a primeira nota: \"))\n",
    "nota2 = float(input(\"Digite a segunda nota: \"))\n",
    "nota3 = float(input(\"Digite a terceira nota: \"))\n",
    "\n",
    "nota_minima_aprovacao = 7\n",
    "nota_minima_rec = 6\n",
    "\n",
    "media = (nota1 + nota2 + nota3) / 3\n",
    "media_round = round(media, 2)\n",
    "\n",
    "if (media >= nota_minima_aprovacao) and not (\"Thárcyla Mourão\" in aluno): # and not vai fazer com que Thárcyla nunca seja aprovada\n",
    "    status = \"aprovada\"\n",
    "    media_round = 10\n",
    "elif media >= nota_minima_rec:\n",
    "    status = \"recuperação\"\n",
    "else:\n",
    "    status = \"reprovada\"\n",
    "\n",
    "print(f\"A aluna {aluno} foi {status} com média {media_round}.\")"
   ]
  },
  {
   "cell_type": "code",
   "execution_count": 4,
   "metadata": {},
   "outputs": [
    {
     "name": "stdout",
     "output_type": "stream",
     "text": [
      "A aluna Thárcyla Mourão foi recuperação com média 8.33.\n"
     ]
    }
   ],
   "source": [
    "aluno = \"Thárcyla Mourão\"\n",
    "nota1 = float(input(\"Digite a primeira nota: \"))\n",
    "nota2 = float(input(\"Digite a segunda nota: \"))\n",
    "nota3 = float(input(\"Digite a terceira nota: \"))\n",
    "\n",
    "nota_minima_aprovacao = 7\n",
    "nota_minima_rec = 6\n",
    "\n",
    "media = (nota1 + nota2 + nota3) / 3\n",
    "media_round = round(media, 2)\n",
    "\n",
    "if (\n",
    "    (media >= nota_minima_aprovacao) and \n",
    "    not (\"Thárcyla Mourão\" in aluno) # and not vai fazer com que Thárcyla nunca seja aprovada\n",
    "    or (\"Maria\" in aluno)\n",
    "):\n",
    "    status = \"aprovada\"\n",
    "    media_round = 10\n",
    "elif media >= nota_minima_rec:\n",
    "    status = \"recuperação\"\n",
    "else:\n",
    "    status = \"reprovada\"\n",
    "\n",
    "print(f\"A aluna {aluno} foi {status} com média {media_round}.\")"
   ]
  },
  {
   "cell_type": "code",
   "execution_count": 10,
   "metadata": {},
   "outputs": [
    {
     "name": "stdout",
     "output_type": "stream",
     "text": [
      "A aluna Thárcyla Mourão está com status de aprovada com 2 notas e com média 7.0.\n"
     ]
    }
   ],
   "source": [
    "aluno = \"Thárcyla Mourão\"\n",
    "\n",
    "notas = []\n",
    "\n",
    "notas.append(float(input(\"Digite a primeira nota: \")))\n",
    "notas.append(float(input(\"Digite a segunda nota: \")))\n",
    "notas.append(float(input(\"Digite a terceira nota: \")))\n",
    "\n",
    "nota_minima_aprovacao = 7\n",
    "nota_minima_rec = 6\n",
    "\n",
    "media = sum(notas) / len(notas)\n",
    "\n",
    "if media >= nota_minima_aprovacao:\n",
    "    status = \"aprovada\"\n",
    "elif media >= nota_minima_rec:\n",
    "    # Qual é a nota mínima?\n",
    "    nota_minima = min(notas)\n",
    "\n",
    "    # Qual é o índice (ou posição) da nota mínima na lista?\n",
    "    nota_minima_indice = notas.index(nota_minima)\n",
    "\n",
    "    # Pra usar o method pop, é preciso saber a posição, e não o valor, por isso usar .index acima\n",
    "    notas.pop(nota_minima_indice)\n",
    "\n",
    "    # # Usando uma única linha, o código fica mais conciso, mas perde legibilidade\n",
    "    # notas.pop(notas.index(min(notas)))\n",
    "\n",
    "    # Após remover a nota mais baixa, recalcular a média\n",
    "    media = sum(notas) / len(notas)\n",
    "\n",
    "    if media >= nota_minima_aprovacao: \n",
    "    # \"reutilizando\" a variavel media permite que um único print seja usado fora da condicional e \n",
    "    # sirva para todas as condições\n",
    "        status = f\"aprovada com {len(notas)} notas\"\n",
    "    else: \n",
    "        status = f\"recuperação com {len(notas)} notas\"\n",
    "else:\n",
    "    status = \"reprovada\"\n",
    "\n",
    "media_round = round(media, 2)\n",
    "\n",
    "print(f\"A aluna {aluno} está com status de {status} e com média {media_round}.\")"
   ]
  }
 ],
 "metadata": {
  "interpreter": {
   "hash": "ba5d83a24314f874713dbd21a8c2b742625751d404308deb09f845d2c2b21efb"
  },
  "kernelspec": {
   "display_name": "Python 3 (ipykernel)",
   "language": "python",
   "name": "python3"
  },
  "language_info": {
   "codemirror_mode": {
    "name": "ipython",
    "version": 3
   },
   "file_extension": ".py",
   "mimetype": "text/x-python",
   "name": "python",
   "nbconvert_exporter": "python",
   "pygments_lexer": "ipython3",
   "version": "3.9.7"
  }
 },
 "nbformat": 4,
 "nbformat_minor": 2
}
